{
 "cells": [
  {
   "cell_type": "code",
   "execution_count": 1,
   "metadata": {},
   "outputs": [],
   "source": [
    "from lib import models, graph, coarsening, utils\n",
    "import numpy as np\n",
    "import matplotlib.pyplot as plt\n",
    "import scipy\n",
    "import data_converter as dst\n",
    "%matplotlib inline"
   ]
  },
  {
   "cell_type": "code",
   "execution_count": 3,
   "metadata": {},
   "outputs": [
    {
     "name": "stdout",
     "output_type": "stream",
     "text": [
      "144033\n",
      "144033\n",
      "{'1', '-1'}\n"
     ]
    }
   ],
   "source": [
    "curr_data_twitter = dst.get_twitter_data_set()\n",
    "count_data = len(curr_data_twitter[\"data\"])\n",
    "print(count_data)\n",
    "count_labels = len(curr_data_twitter[\"labels\"])\n",
    "print(count_labels)\n",
    "assert count_data == count_labels\n",
    "print(curr_data_twitter[\"label_values\"])\n",
    "count_value_labels = len(curr_data_twitter[\"label_values\"])\n",
    "for matr in curr_data_twitter[\"data\"]:\n",
    "    assert len(curr_data_twitter[\"data\"][0]) == len(matr)"
   ]
  },
  {
   "cell_type": "code",
   "execution_count": 4,
   "metadata": {},
   "outputs": [
    {
     "name": "stdout",
     "output_type": "stream",
     "text": [
      "  (0, 1)\t0.0003034013\n",
      "  (2, 1)\t0.00035130675\n",
      "  (2, 3)\t0.00016500772\n"
     ]
    }
   ],
   "source": [
    "curr_graphs = curr_data_twitter[\"data\"] \n",
    "labels = curr_data_twitter[\"labels\"]\n",
    "new_graphs = [scipy.sparse.coo_matrix(elem).astype(np.float32) for elem in curr_graphs]\n",
    "print(new_graphs[0])"
   ]
  },
  {
   "cell_type": "code",
   "execution_count": 5,
   "metadata": {},
   "outputs": [],
   "source": [
    "n_train = count_data // 2\n",
    "n_val = count_data // 10\n",
    "\n",
    "curr_graphs = np.asarray(curr_graphs)\n",
    "X_train = curr_graphs[:n_train]\n",
    "X_val   = curr_graphs[n_train:n_train+n_val]\n",
    "X_test  = curr_graphs[n_train+n_val:]\n",
    "\n",
    "y_train = labels[:n_train]\n",
    "y_val   = labels[n_train:n_train+n_val]\n",
    "y_test  = labels[n_train+n_val:]\n"
   ]
  },
  {
   "cell_type": "code",
   "execution_count": null,
   "metadata": {},
   "outputs": [],
   "source": [
    "L = [graph.laplacian(A, normalized=True).astype(np.float32) for A in new_graphs]"
   ]
  },
  {
   "cell_type": "code",
   "execution_count": null,
   "metadata": {},
   "outputs": [],
   "source": [
    "params = dict()\n",
    "params['dir_name']       = 'demo'\n",
    "params['num_epochs']     = 40\n",
    "params['batch_size']     = 1\n",
    "params['eval_frequency'] = 200\n",
    "\n",
    "# Building blocks.\n",
    "params['filter']         = 'chebyshev5'\n",
    "params['brelu']          = 'b1relu'\n",
    "params['pool']           = 'apool1'\n",
    "\n",
    "# Number of classes.\n",
    "C = count_value_labels\n",
    "\n",
    "print(len(L))\n",
    "# Architecture.\n",
    "params['F']              = [32, 64]  # Number of graph convolutional filters.\n",
    "params['K']              = [20, 20]  # Polynomial orders.\n",
    "params['p']              = [1, 2]    # Pooling sizes.\n",
    "params['M']              = [512, C]  # Output dimensionality of fully connected layers.\n",
    "\n",
    "# Optimization.\n",
    "params['regularization'] = 5e-4\n",
    "params['dropout']        = 1\n",
    "params['learning_rate']  = 1e-3\n",
    "params['decay_rate']     = 0.95\n",
    "params['momentum']       = 0.9\n",
    "params['decay_steps']    = n_train / params['batch_size']"
   ]
  },
  {
   "cell_type": "code",
   "execution_count": null,
   "metadata": {},
   "outputs": [],
   "source": [
    "# X_train = np.asarray(X_train, dtype=np.float32)\n",
    "y_train = np.asarray(y_train, dtype=np.float32)\n",
    "\n",
    "# X_val = np.asarray(X_val, dtype=np.float32)\n",
    "y_val = np.asarray(y_val, dtype=np.float32)\n",
    "\n",
    "print(X_train[0])\n",
    "print(len(X_train[0]))\n",
    "\n",
    "print(X_train.shape)\n",
    "print(type(X_train[0]))\n",
    "print(y_train.shape)\n",
    "print(type(y_train[0]))\n",
    "\n",
    "model = models.cgcnn(L, **params)\n",
    "accuracy, loss, t_step = model.fit(X_train, y_train, X_val, y_val)"
   ]
  },
  {
   "cell_type": "code",
   "execution_count": null,
   "metadata": {},
   "outputs": [],
   "source": [
    "fig, ax1 = plt.subplots(figsize=(15, 5))\n",
    "ax1.plot(accuracy, 'b.-')\n",
    "ax1.set_ylabel('validation accuracy', color='b')\n",
    "ax2 = ax1.twinx()\n",
    "ax2.plot(loss, 'g.-')\n",
    "ax2.set_ylabel('training loss', color='g')\n",
    "plt.show()"
   ]
  },
  {
   "cell_type": "code",
   "execution_count": null,
   "metadata": {},
   "outputs": [],
   "source": [
    "print('Time per step: {:.2f} ms'.format(t_step*1000))"
   ]
  },
  {
   "cell_type": "code",
   "execution_count": null,
   "metadata": {},
   "outputs": [],
   "source": [
    "res = model.evaluate(X_test, y_test)\n",
    "print(res[0])"
   ]
  },
  {
   "cell_type": "code",
   "execution_count": null,
   "metadata": {},
   "outputs": [],
   "source": []
  }
 ],
 "metadata": {
  "kernelspec": {
   "display_name": "Python 3",
   "language": "python",
   "name": "python3"
  },
  "language_info": {
   "codemirror_mode": {
    "name": "ipython",
    "version": 3
   },
   "file_extension": ".py",
   "mimetype": "text/x-python",
   "name": "python",
   "nbconvert_exporter": "python",
   "pygments_lexer": "ipython3",
   "version": "3.7.3"
  }
 },
 "nbformat": 4,
 "nbformat_minor": 2
}

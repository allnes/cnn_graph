{
 "cells": [
  {
   "cell_type": "markdown",
   "metadata": {},
   "source": [
    "# Introduction\n",
    "\n",
    "$\\newcommand{\\G}{\\mathcal{G}}$\n",
    "$\\newcommand{\\V}{\\mathcal{V}}$\n",
    "$\\newcommand{\\E}{\\mathcal{E}}$\n",
    "$\\newcommand{\\R}{\\mathbb{R}}$\n",
    "\n",
    "This notebook shows how to apply our graph ConvNet ([paper] & [code]), or any other, to your structured or unstructured data. For this example, we assume that we have $n$ samples $x_i \\in \\R^{d_x}$ arranged in a data matrix $$X = [x_1, ..., x_n]^T \\in \\R^{n \\times d_x}.$$ Each sample $x_i$ is associated with a vector $y_i \\in \\R^{d_y}$ for a regression task or a label $y_i \\in \\{0,\\ldots,C\\}$ for a classification task.\n",
    "\n",
    "[paper]: https://arxiv.org/abs/1606.09375\n",
    "[code]:  https://github.com/mdeff/cnn_graph\n",
    "\n",
    "From there, we'll structure our data with a graph $\\G = (\\V, \\E, A)$ where $\\V$ is the set of $d_x = |\\V|$ vertices, $\\E$ is the set of edges and $A \\in \\R^{d_x \\times d_x}$ is the adjacency matrix. That matrix represents the weight of each edge, i.e. $A_{i,j}$ is the weight of the edge connecting $v_i \\in \\V$ to $v_j \\in \\V$. The weights of that feature graph thus represent pairwise relationships between features $i$ and $j$. We call that regime **signal classification / regression**, as the samples $x_i$ to be classified or regressed are graph signals.\n",
    "\n",
    "Other modelling possibilities include:\n",
    "1. Using a data graph, i.e. an adjacency matrix $A \\in \\R^{n \\times n}$ which represents pairwise relationships between samples $x_i \\in \\R^{d_x}$. The problem is here to predict a graph signal $y \\in \\R^{n \\times d_y}$ given a graph characterized by $A$ and some graph signals $X \\in \\R^{n \\times d_x}$. We call that regime **node classification / regression**, as we classify or regress nodes instead of signals.\n",
    "2. Another problem of interest is whole graph classification, with or without signals on top. We'll call that third regime **graph classification / regression**. The problem here is to classify or regress a whole graph $A_i \\in \\R^{n \\times n}$ (with or without an associated data matrix $X_i \\in \\R^{n \\times d_x}$) into $y_i \\in \\R^{d_y}$. In case we have no signal, we can use a constant vector $X_i = 1_n$ of size $n$."
   ]
  },
  {
   "cell_type": "code",
   "execution_count": 1,
   "metadata": {},
   "outputs": [
    {
     "name": "stderr",
     "output_type": "stream",
     "text": [
      "/home/anesterov/anaconda3/lib/python3.7/site-packages/tensorflow/python/framework/dtypes.py:516: FutureWarning: Passing (type, 1) or '1type' as a synonym of type is deprecated; in a future version of numpy, it will be understood as (type, (1,)) / '(1,)type'.\n",
      "  _np_qint8 = np.dtype([(\"qint8\", np.int8, 1)])\n",
      "/home/anesterov/anaconda3/lib/python3.7/site-packages/tensorflow/python/framework/dtypes.py:517: FutureWarning: Passing (type, 1) or '1type' as a synonym of type is deprecated; in a future version of numpy, it will be understood as (type, (1,)) / '(1,)type'.\n",
      "  _np_quint8 = np.dtype([(\"quint8\", np.uint8, 1)])\n",
      "/home/anesterov/anaconda3/lib/python3.7/site-packages/tensorflow/python/framework/dtypes.py:518: FutureWarning: Passing (type, 1) or '1type' as a synonym of type is deprecated; in a future version of numpy, it will be understood as (type, (1,)) / '(1,)type'.\n",
      "  _np_qint16 = np.dtype([(\"qint16\", np.int16, 1)])\n",
      "/home/anesterov/anaconda3/lib/python3.7/site-packages/tensorflow/python/framework/dtypes.py:519: FutureWarning: Passing (type, 1) or '1type' as a synonym of type is deprecated; in a future version of numpy, it will be understood as (type, (1,)) / '(1,)type'.\n",
      "  _np_quint16 = np.dtype([(\"quint16\", np.uint16, 1)])\n",
      "/home/anesterov/anaconda3/lib/python3.7/site-packages/tensorflow/python/framework/dtypes.py:520: FutureWarning: Passing (type, 1) or '1type' as a synonym of type is deprecated; in a future version of numpy, it will be understood as (type, (1,)) / '(1,)type'.\n",
      "  _np_qint32 = np.dtype([(\"qint32\", np.int32, 1)])\n",
      "/home/anesterov/anaconda3/lib/python3.7/site-packages/tensorflow/python/framework/dtypes.py:525: FutureWarning: Passing (type, 1) or '1type' as a synonym of type is deprecated; in a future version of numpy, it will be understood as (type, (1,)) / '(1,)type'.\n",
      "  np_resource = np.dtype([(\"resource\", np.ubyte, 1)])\n",
      "/home/anesterov/anaconda3/lib/python3.7/site-packages/tensorboard/compat/tensorflow_stub/dtypes.py:541: FutureWarning: Passing (type, 1) or '1type' as a synonym of type is deprecated; in a future version of numpy, it will be understood as (type, (1,)) / '(1,)type'.\n",
      "  _np_qint8 = np.dtype([(\"qint8\", np.int8, 1)])\n",
      "/home/anesterov/anaconda3/lib/python3.7/site-packages/tensorboard/compat/tensorflow_stub/dtypes.py:542: FutureWarning: Passing (type, 1) or '1type' as a synonym of type is deprecated; in a future version of numpy, it will be understood as (type, (1,)) / '(1,)type'.\n",
      "  _np_quint8 = np.dtype([(\"quint8\", np.uint8, 1)])\n",
      "/home/anesterov/anaconda3/lib/python3.7/site-packages/tensorboard/compat/tensorflow_stub/dtypes.py:543: FutureWarning: Passing (type, 1) or '1type' as a synonym of type is deprecated; in a future version of numpy, it will be understood as (type, (1,)) / '(1,)type'.\n",
      "  _np_qint16 = np.dtype([(\"qint16\", np.int16, 1)])\n",
      "/home/anesterov/anaconda3/lib/python3.7/site-packages/tensorboard/compat/tensorflow_stub/dtypes.py:544: FutureWarning: Passing (type, 1) or '1type' as a synonym of type is deprecated; in a future version of numpy, it will be understood as (type, (1,)) / '(1,)type'.\n",
      "  _np_quint16 = np.dtype([(\"quint16\", np.uint16, 1)])\n",
      "/home/anesterov/anaconda3/lib/python3.7/site-packages/tensorboard/compat/tensorflow_stub/dtypes.py:545: FutureWarning: Passing (type, 1) or '1type' as a synonym of type is deprecated; in a future version of numpy, it will be understood as (type, (1,)) / '(1,)type'.\n",
      "  _np_qint32 = np.dtype([(\"qint32\", np.int32, 1)])\n",
      "/home/anesterov/anaconda3/lib/python3.7/site-packages/tensorboard/compat/tensorflow_stub/dtypes.py:550: FutureWarning: Passing (type, 1) or '1type' as a synonym of type is deprecated; in a future version of numpy, it will be understood as (type, (1,)) / '(1,)type'.\n",
      "  np_resource = np.dtype([(\"resource\", np.ubyte, 1)])\n"
     ]
    }
   ],
   "source": [
    "from lib import models, graph, coarsening, utils\n",
    "import numpy as np\n",
    "import matplotlib.pyplot as plt\n",
    "import scipy\n",
    "import data_converter as dst\n",
    "%matplotlib inline"
   ]
  },
  {
   "cell_type": "markdown",
   "metadata": {},
   "source": [
    "# 1 Data\n",
    "\n",
    "For the purpose of the demo, let's create a random data matrix $X \\in \\R^{n \\times d_x}$ and somehow infer a label $y_i = f(x_i)$."
   ]
  },
  {
   "cell_type": "code",
   "execution_count": 2,
   "metadata": {},
   "outputs": [
    {
     "name": "stdout",
     "output_type": "stream",
     "text": [
      "144033\n",
      "144033\n",
      "{'-1', '1'}\n",
      "(144033, 196)\n",
      "(144033,)\n"
     ]
    }
   ],
   "source": [
    "curr_data_set = dst.get_twitter_data_set()\n",
    "count_data = len(curr_data_set[\"data\"])\n",
    "count_labels = len(curr_data_set[\"labels\"])\n",
    "raw_labels = [0 if float(label_elem) < 0  else 1 for label_elem in curr_data_set[\"labels\"]]\n",
    "assert count_data == count_labels\n",
    "count_value_labels = len(curr_data_set[\"label_values\"])\n",
    "for matr in curr_data_set[\"data\"]:\n",
    "    assert len(curr_data_set[\"data\"][0]) == len(matr)\n",
    "\n",
    "X_not_full = np.asarray(curr_data_set[\"data\"])\n",
    "X = X_not_full.reshape((X_not_full.shape[0], X_not_full.shape[1] * X_not_full.shape[2]))\n",
    "y = np.asarray(raw_labels)\n",
    "\n",
    "print(count_data)\n",
    "print(count_labels)\n",
    "print(curr_data_set[\"label_values\"])\n",
    "print(X.shape)\n",
    "print(y.shape)\n",
    "\n",
    "# X_hist = X.reshape(X.shape[0] * X.shape[1])\n",
    "# X_hist_newvalues = [element for element in X_hist if element != 0]\n",
    "# plt.hist(X_hist_newvalues, bins = np.arange(0, 0.2, 0.02)) \n",
    "# plt.title(\"histogram\") \n",
    "# plt.show()\n",
    "\n",
    "d = X.shape[1]   # Dimensionality.\n",
    "n = X.shape[0]   # Number of samples.\n",
    "c = count_labels # Number of feature communities."
   ]
  },
  {
   "cell_type": "markdown",
   "metadata": {},
   "source": [
    "Then split this dataset into training, validation and testing sets."
   ]
  },
  {
   "cell_type": "code",
   "execution_count": 3,
   "metadata": {},
   "outputs": [],
   "source": [
    "n_train = n // 3\n",
    "n_val = n // 10\n",
    "\n",
    "X_train = X[:n_train]\n",
    "X_val   = X[n_train:n_train+n_val]\n",
    "X_test  = X[n_train+n_val:]\n",
    "\n",
    "y_train = y[:n_train]\n",
    "y_val   = y[n_train:n_train+n_val]\n",
    "y_test  = y[n_train+n_val:]"
   ]
  },
  {
   "cell_type": "markdown",
   "metadata": {},
   "source": [
    "# 2 Graph\n",
    "\n",
    "The second thing we need is a **graph between features**, i.e. an adjacency matrix $A \\in \\mathbb{R}^{d_x \\times d_x}$.\n",
    "Structuring data with graphs is very flexible: it can accomodate both structured and unstructured data.\n",
    "1. **Structured data**.\n",
    "    1. The data is structured by an Euclidean domain, e.g. $x_i$ represents an image, a sound or a video. We can use a classical ConvNet with 1D, 2D or 3D convolutions or a graph ConvNet with a line or grid graph (however losing the orientation).\n",
    "    2. The data is structured by a graph, e.g. the data lies on a transportation, energy, brain or social network.\n",
    "2. **Unstructured data**. We could use a fully connected network, but the learning and computational complexities are gonna be large. An alternative is to construct a sparse similarity graph between features (or between samples) and use a graph ConvNet, effectively structuring the data and drastically reducing the number of parameters through weight sharing. As for classical ConvNets, the number of parameters are independent of the input size.\n",
    "\n",
    "There are many ways, supervised or unsupervised, to construct a graph given some data. And better the graph, better the performance ! For this example we'll define the adjacency matrix as a simple similarity measure between features. Below are the choices one has to make when constructing such a graph.\n",
    "1. The distance function. We'll use the Euclidean distance $d_{ij} = \\|x_i - x_j\\|_2$.\n",
    "2. The kernel. We'll use the Gaussian kernel $a_{ij} = \\exp(d_{ij}^2 / \\sigma^2)$.\n",
    "3. The type of graph. We'll use a $k$ nearest neigbors (kNN) graph."
   ]
  },
  {
   "cell_type": "code",
   "execution_count": 4,
   "metadata": {},
   "outputs": [
    {
     "name": "stdout",
     "output_type": "stream",
     "text": [
      "d = |V| = 196, k|V| < |E| = 3684\n"
     ]
    },
    {
     "data": {
      "image/png": "[encoded data removed]",
      "text/plain": [
       "<Figure size 432x288 with 1 Axes>"
      ]
     },
     "metadata": {
      "needs_background": "light"
     },
     "output_type": "display_data"
    }
   ],
   "source": [
    "dist, idx = graph.distance_scipy_spatial(X_train.T, k=10, metric='euclidean')\n",
    "A = graph.adjacency(dist, idx).astype(np.float32)\n",
    "\n",
    "assert A.shape == (d, d)\n",
    "print('d = |V| = {}, k|V| < |E| = {}'.format(d, A.nnz))\n",
    "plt.spy(A, markersize=2, color='black');"
   ]
  },
  {
   "cell_type": "markdown",
   "metadata": {},
   "source": [
    "To be able to pool graph signals, we need first to coarsen the graph, i.e. to find which vertices to group together. At the end we'll have multiple graphs, like a pyramid, each at one level of resolution. The finest graph is where the input data lies, the coarsest graph is where the data at the output of the graph convolutional layers lie. That data, of reduced spatial dimensionality, can then be fed to a fully connected layer.\n",
    "\n",
    "The parameter here is the number of times to coarsen the graph. Each coarsening approximately reduces the size of the graph by a factor two. Thus if you want a pooling of size 4 in the first layer followed by a pooling of size 2 in the second, you'll need to coarsen $\\log_2(4+2) = 3$ times.\n",
    "\n",
    "After coarsening we rearrange the vertices (and add fake vertices) such that pooling a graph signal is analog to pooling a 1D signal. See the [paper] for details.\n",
    "\n",
    "[paper]: https://arxiv.org/abs/1606.09375"
   ]
  },
  {
   "cell_type": "code",
   "execution_count": 5,
   "metadata": {},
   "outputs": [
    {
     "name": "stdout",
     "output_type": "stream",
     "text": [
      "Layer 0: M_0 = |V| = 304 nodes (108 added),|E| = 1842 edges\n",
      "Layer 1: M_1 = |V| = 152 nodes (33 added),|E| = 1340 edges\n",
      "Layer 2: M_2 = |V| = 76 nodes (7 added),|E| = 890 edges\n",
      "Layer 3: M_3 = |V| = 38 nodes (1 added),|E| = 483 edges\n",
      "Layer 4: M_4 = |V| = 19 nodes (0 added),|E| = 173 edges\n",
      "(48011, 304)\n",
      "(14403, 304)\n",
      "(81619, 304)\n"
     ]
    }
   ],
   "source": [
    "graphs, perm = coarsening.coarsen(A, levels=4, self_connections=True)\n",
    "\n",
    "X_train = coarsening.perm_data(X_train, perm)\n",
    "print(X_train.shape)\n",
    "X_val = coarsening.perm_data(X_val, perm)\n",
    "print(X_val.shape)\n",
    "X_test = coarsening.perm_data(X_test, perm)\n",
    "print(X_test.shape)"
   ]
  },
  {
   "cell_type": "markdown",
   "metadata": {},
   "source": [
    "We finally need to compute the graph Laplacian $L$ for each of our graphs (the original and the coarsened versions), defined by their adjacency matrices $A$. The sole parameter here is the type of Laplacian, e.g. the combinatorial Laplacian, the normalized Laplacian or the random walk Laplacian."
   ]
  },
  {
   "cell_type": "code",
   "execution_count": 6,
   "metadata": {},
   "outputs": [
    {
     "data": {
      "image/png": "[encoded data removed]",
      "text/plain": [
       "<Figure size 1224x360 with 1 Axes>"
      ]
     },
     "metadata": {
      "needs_background": "light"
     },
     "output_type": "display_data"
    }
   ],
   "source": [
    "L = [graph.laplacian(A, normalized=True) for A in graphs]\n",
    "graph.plot_spectrum(L)"
   ]
  },
  {
   "cell_type": "markdown",
   "metadata": {},
   "source": [
    "# 3 Graph ConvNet\n",
    "\n",
    "Here we apply the graph convolutional neural network to signals lying on graphs. After designing the architecture and setting the hyper-parameters, the model takes as inputs the data matrix $X$, the target $y$ and a list of graph Laplacians $L$, one per coarsening level.\n",
    "\n",
    "The data, architecture and hyper-parameters are absolutely *not engineered to showcase performance*. Its sole purpose is to illustrate usage and functionality."
   ]
  },
  {
   "cell_type": "code",
   "execution_count": 7,
   "metadata": {},
   "outputs": [],
   "source": [
    "params = dict()\n",
    "params['dir_name']       = 'twitter_dataset'\n",
    "params['num_epochs']     = 15\n",
    "params['batch_size']     = 100\n",
    "params['eval_frequency'] = 100\n",
    "\n",
    "# Building blocks.\n",
    "params['filter']         = 'chebyshev5'\n",
    "params['brelu']          = 'b1relu'\n",
    "params['pool']           = 'apool1'\n",
    "params['pool']           = 'mpool1'\n",
    "\n",
    "# Number of classes.\n",
    "C = y.max() + 1\n",
    "assert C == np.unique(y).size\n",
    "\n",
    "# Architecture.\n",
    "params['F']              = [10, 10]  # Number of graph convolutional filters.\n",
    "params['K']              = [5, 5]  # Polynomial orders.\n",
    "params['p']              = [4, 2]    # Pooling sizes.\n",
    "params['M']              = [10, C]  # Output dimensionality of fully connected layers.\n",
    "\n",
    "# Optimization.\n",
    "params['regularization'] = 5e-4\n",
    "params['dropout']        = 5\n",
    "params['learning_rate']  = 1e-3\n",
    "params['decay_rate']     = 0.95\n",
    "params['momentum']       = 0\n",
    "params['decay_steps']    = n_train / params['batch_size']"
   ]
  },
  {
   "cell_type": "code",
   "execution_count": 8,
   "metadata": {},
   "outputs": [
    {
     "name": "stderr",
     "output_type": "stream",
     "text": [
      "WARNING: Logging before flag parsing goes to stderr.\n",
      "W0913 20:25:49.834222 140597250778944 deprecation_wrapper.py:119] From /home/anesterov/Documents/science/source/cnn_graph/lib/models.py:156: The name tf.placeholder is deprecated. Please use tf.compat.v1.placeholder instead.\n",
      "\n",
      "W0913 20:25:49.839523 140597250778944 deprecation_wrapper.py:119] From /home/anesterov/Documents/science/source/cnn_graph/lib/models.py:955: The name tf.variable_scope is deprecated. Please use tf.compat.v1.variable_scope instead.\n",
      "\n",
      "W0913 20:25:49.843730 140597250778944 deprecation_wrapper.py:119] From /home/anesterov/Documents/science/source/cnn_graph/lib/models.py:889: The name tf.sparse_reorder is deprecated. Please use tf.sparse.reorder instead.\n",
      "\n",
      "W0913 20:25:49.852796 140597250778944 deprecation_wrapper.py:119] From /home/anesterov/Documents/science/source/cnn_graph/lib/models.py:898: The name tf.sparse_tensor_dense_matmul is deprecated. Please use tf.sparse.sparse_dense_matmul instead.\n",
      "\n",
      "W0913 20:25:49.891732 140597250778944 deprecation_wrapper.py:119] From /home/anesterov/Documents/science/source/cnn_graph/lib/models.py:274: The name tf.get_variable is deprecated. Please use tf.compat.v1.get_variable instead.\n",
      "\n",
      "W0913 20:25:49.904967 140597250778944 deprecation_wrapper.py:119] From /home/anesterov/Documents/science/source/cnn_graph/lib/models.py:277: The name tf.summary.histogram is deprecated. Please use tf.compat.v1.summary.histogram instead.\n",
      "\n",
      "W0913 20:25:49.921196 140597250778944 deprecation_wrapper.py:119] From /home/anesterov/Documents/science/source/cnn_graph/lib/models.py:928: The name tf.nn.max_pool is deprecated. Please use tf.nn.max_pool2d instead.\n",
      "\n",
      "W0913 20:25:49.995439 140597250778944 deprecation.py:506] From /home/anesterov/Documents/science/source/cnn_graph/lib/models.py:969: calling dropout (from tensorflow.python.ops.nn_ops) with keep_prob is deprecated and will be removed in a future version.\n",
      "Instructions for updating:\n",
      "Please use `rate` instead of `keep_prob`. Rate should be set to `rate = 1 - keep_prob`.\n",
      "W0913 20:25:50.017586 140597250778944 deprecation.py:323] From /home/anesterov/Documents/science/source/cnn_graph/lib/models.py:209: to_int64 (from tensorflow.python.ops.math_ops) is deprecated and will be removed in a future version.\n",
      "Instructions for updating:\n",
      "Use `tf.cast` instead.\n",
      "W0913 20:25:50.022408 140597250778944 deprecation_wrapper.py:119] From /home/anesterov/Documents/science/source/cnn_graph/lib/models.py:217: The name tf.summary.scalar is deprecated. Please use tf.compat.v1.summary.scalar instead.\n",
      "\n"
     ]
    },
    {
     "name": "stdout",
     "output_type": "stream",
     "text": [
      "NN architecture\n",
      "  input: M_0 = 304\n",
      "  layer 1: cgconv1\n",
      "    representation: M_0 * F_1 / p_1 = 304 * 10 / 4 = 760\n",
      "    weights: F_0 * F_1 * K_1 = 1 * 10 * 5 = 50\n",
      "    biases: F_1 = 10\n",
      "  layer 2: cgconv2\n",
      "    representation: M_1 * F_2 / p_2 = 76 * 10 / 2 = 380\n",
      "    weights: F_1 * F_2 * K_2 = 10 * 10 * 5 = 500\n",
      "    biases: F_2 = 10\n",
      "  layer 3: fc1\n",
      "    representation: M_3 = 10\n",
      "    weights: M_2 * M_3 = 380 * 10 = 3800\n",
      "    biases: M_3 = 10\n",
      "  layer 4: logits (softmax)\n",
      "    representation: M_4 = 2\n",
      "    weights: M_3 * M_4 = 10 * 2 = 20\n",
      "    biases: M_4 = 2\n"
     ]
    },
    {
     "name": "stderr",
     "output_type": "stream",
     "text": [
      "W0913 20:25:50.055818 140597250778944 deprecation_wrapper.py:119] From /home/anesterov/Documents/science/source/cnn_graph/lib/models.py:236: The name tf.train.exponential_decay is deprecated. Please use tf.compat.v1.train.exponential_decay instead.\n",
      "\n",
      "W0913 20:25:50.063687 140597250778944 deprecation_wrapper.py:119] From /home/anesterov/Documents/science/source/cnn_graph/lib/models.py:241: The name tf.train.GradientDescentOptimizer is deprecated. Please use tf.compat.v1.train.GradientDescentOptimizer instead.\n",
      "\n",
      "W0913 20:25:50.297405 140597250778944 deprecation_wrapper.py:119] From /home/anesterov/Documents/science/source/cnn_graph/lib/models.py:171: The name tf.summary.merge_all is deprecated. Please use tf.compat.v1.summary.merge_all instead.\n",
      "\n",
      "W0913 20:25:50.299115 140597250778944 deprecation_wrapper.py:119] From /home/anesterov/Documents/science/source/cnn_graph/lib/models.py:172: The name tf.train.Saver is deprecated. Please use tf.compat.v1.train.Saver instead.\n",
      "\n",
      "W0913 20:25:50.344310 140597250778944 deprecation_wrapper.py:119] From /home/anesterov/Documents/science/source/cnn_graph/lib/models.py:87: The name tf.summary.FileWriter is deprecated. Please use tf.compat.v1.summary.FileWriter instead.\n",
      "\n"
     ]
    },
    {
     "name": "stdout",
     "output_type": "stream",
     "text": [
      "step 100 / 7201 (epoch 0.21 / 15):\n",
      "  learning_rate = 1.00e-03, loss_average = 7.17e-01\n",
      "  validation accuracy: 53.48 (7703 / 14403), f1 (weighted): 37.28, loss: 7.16e-01\n",
      "  time: 6s (wall 4s)\n",
      "step 200 / 7201 (epoch 0.42 / 15):\n",
      "  learning_rate = 1.00e-03, loss_average = 7.11e-01\n"
     ]
    },
    {
     "name": "stderr",
     "output_type": "stream",
     "text": [
      "/home/anesterov/anaconda3/lib/python3.7/site-packages/sklearn/metrics/classification.py:1437: UndefinedMetricWarning: F-score is ill-defined and being set to 0.0 in labels with no predicted samples.\n",
      "  'precision', 'predicted', average, warn_for)\n"
     ]
    },
    {
     "name": "stdout",
     "output_type": "stream",
     "text": [
      "  validation accuracy: 53.47 (7702 / 14403), f1 (weighted): 37.26, loss: 7.16e-01\n",
      "  time: 11s (wall 7s)\n",
      "step 300 / 7201 (epoch 0.62 / 15):\n",
      "  learning_rate = 1.00e-03, loss_average = 7.11e-01\n",
      "  validation accuracy: 53.47 (7702 / 14403), f1 (weighted): 37.26, loss: 7.16e-01\n",
      "  time: 16s (wall 9s)\n",
      "step 400 / 7201 (epoch 0.83 / 15):\n",
      "  learning_rate = 1.00e-03, loss_average = 7.11e-01\n",
      "  validation accuracy: 53.47 (7702 / 14403), f1 (weighted): 37.26, loss: 7.15e-01\n",
      "  time: 22s (wall 13s)\n",
      "step 500 / 7201 (epoch 1.04 / 15):\n",
      "  learning_rate = 9.50e-04, loss_average = 7.11e-01\n",
      "  validation accuracy: 53.47 (7702 / 14403), f1 (weighted): 37.26, loss: 7.15e-01\n",
      "  time: 28s (wall 16s)\n",
      "step 600 / 7201 (epoch 1.25 / 15):\n",
      "  learning_rate = 9.50e-04, loss_average = 7.10e-01\n"
     ]
    },
    {
     "name": "stderr",
     "output_type": "stream",
     "text": [
      "W0913 20:26:09.411897 140597250778944 deprecation.py:323] From /home/anesterov/anaconda3/lib/python3.7/site-packages/tensorflow/python/training/saver.py:960: remove_checkpoint (from tensorflow.python.training.checkpoint_management) is deprecated and will be removed in a future version.\n",
      "Instructions for updating:\n",
      "Use standard file APIs to delete files with this prefix.\n"
     ]
    },
    {
     "name": "stdout",
     "output_type": "stream",
     "text": [
      "  validation accuracy: 53.47 (7702 / 14403), f1 (weighted): 37.26, loss: 7.15e-01\n",
      "  time: 33s (wall 19s)\n",
      "step 700 / 7201 (epoch 1.46 / 15):\n",
      "  learning_rate = 9.50e-04, loss_average = 7.10e-01\n",
      "  validation accuracy: 53.47 (7702 / 14403), f1 (weighted): 37.26, loss: 7.15e-01\n",
      "  time: 38s (wall 22s)\n",
      "step 800 / 7201 (epoch 1.67 / 15):\n",
      "  learning_rate = 9.50e-04, loss_average = 7.10e-01\n",
      "  validation accuracy: 53.47 (7702 / 14403), f1 (weighted): 37.26, loss: 7.15e-01\n",
      "  time: 44s (wall 25s)\n",
      "step 900 / 7201 (epoch 1.87 / 15):\n",
      "  learning_rate = 9.50e-04, loss_average = 7.11e-01\n",
      "  validation accuracy: 53.47 (7702 / 14403), f1 (weighted): 37.26, loss: 7.15e-01\n",
      "  time: 50s (wall 30s)\n",
      "step 1000 / 7201 (epoch 2.08 / 15):\n",
      "  learning_rate = 9.03e-04, loss_average = 7.10e-01\n",
      "  validation accuracy: 53.47 (7702 / 14403), f1 (weighted): 37.26, loss: 7.15e-01\n",
      "  time: 57s (wall 34s)\n",
      "step 1100 / 7201 (epoch 2.29 / 15):\n",
      "  learning_rate = 9.03e-04, loss_average = 7.10e-01\n",
      "  validation accuracy: 53.47 (7702 / 14403), f1 (weighted): 37.26, loss: 7.15e-01\n",
      "  time: 62s (wall 37s)\n",
      "step 1200 / 7201 (epoch 2.50 / 15):\n",
      "  learning_rate = 9.03e-04, loss_average = 7.10e-01\n",
      "  validation accuracy: 53.47 (7702 / 14403), f1 (weighted): 37.26, loss: 7.15e-01\n",
      "  time: 67s (wall 40s)\n",
      "step 1300 / 7201 (epoch 2.71 / 15):\n",
      "  learning_rate = 9.03e-04, loss_average = 7.11e-01\n",
      "  validation accuracy: 53.47 (7702 / 14403), f1 (weighted): 37.26, loss: 7.14e-01\n",
      "  time: 73s (wall 43s)\n",
      "step 1400 / 7201 (epoch 2.92 / 15):\n",
      "  learning_rate = 9.03e-04, loss_average = 7.10e-01\n",
      "  validation accuracy: 53.47 (7702 / 14403), f1 (weighted): 37.26, loss: 7.14e-01\n",
      "  time: 78s (wall 45s)\n",
      "step 1500 / 7201 (epoch 3.12 / 15):\n",
      "  learning_rate = 8.57e-04, loss_average = 7.12e-01\n",
      "  validation accuracy: 53.47 (7702 / 14403), f1 (weighted): 37.26, loss: 7.14e-01\n",
      "  time: 83s (wall 48s)\n",
      "step 1600 / 7201 (epoch 3.33 / 15):\n",
      "  learning_rate = 8.57e-04, loss_average = 7.10e-01\n",
      "  validation accuracy: 53.47 (7702 / 14403), f1 (weighted): 37.26, loss: 7.14e-01\n",
      "  time: 88s (wall 51s)\n",
      "step 1700 / 7201 (epoch 3.54 / 15):\n",
      "  learning_rate = 8.57e-04, loss_average = 7.10e-01\n",
      "  validation accuracy: 53.47 (7702 / 14403), f1 (weighted): 37.26, loss: 7.14e-01\n",
      "  time: 93s (wall 54s)\n",
      "step 1800 / 7201 (epoch 3.75 / 15):\n",
      "  learning_rate = 8.57e-04, loss_average = 7.10e-01\n",
      "  validation accuracy: 53.47 (7702 / 14403), f1 (weighted): 37.26, loss: 7.14e-01\n",
      "  time: 98s (wall 56s)\n",
      "step 1900 / 7201 (epoch 3.96 / 15):\n",
      "  learning_rate = 8.57e-04, loss_average = 7.11e-01\n",
      "  validation accuracy: 53.47 (7702 / 14403), f1 (weighted): 37.26, loss: 7.14e-01\n",
      "  time: 103s (wall 59s)\n",
      "step 2000 / 7201 (epoch 4.17 / 15):\n",
      "  learning_rate = 8.15e-04, loss_average = 7.08e-01\n",
      "  validation accuracy: 53.47 (7702 / 14403), f1 (weighted): 37.26, loss: 7.14e-01\n",
      "  time: 109s (wall 62s)\n",
      "step 2100 / 7201 (epoch 4.37 / 15):\n",
      "  learning_rate = 8.15e-04, loss_average = 7.10e-01\n",
      "  validation accuracy: 53.47 (7702 / 14403), f1 (weighted): 37.26, loss: 7.14e-01\n",
      "  time: 114s (wall 65s)\n",
      "step 2200 / 7201 (epoch 4.58 / 15):\n",
      "  learning_rate = 8.15e-04, loss_average = 7.10e-01\n",
      "  validation accuracy: 53.47 (7702 / 14403), f1 (weighted): 37.26, loss: 7.14e-01\n",
      "  time: 119s (wall 67s)\n",
      "step 2300 / 7201 (epoch 4.79 / 15):\n",
      "  learning_rate = 8.15e-04, loss_average = 7.09e-01\n",
      "  validation accuracy: 53.47 (7702 / 14403), f1 (weighted): 37.26, loss: 7.14e-01\n",
      "  time: 124s (wall 70s)\n",
      "step 2400 / 7201 (epoch 5.00 / 15):\n",
      "  learning_rate = 8.15e-04, loss_average = 7.11e-01\n",
      "  validation accuracy: 53.47 (7702 / 14403), f1 (weighted): 37.26, loss: 7.14e-01\n",
      "  time: 129s (wall 73s)\n",
      "step 2500 / 7201 (epoch 5.21 / 15):\n",
      "  learning_rate = 7.74e-04, loss_average = 7.10e-01\n",
      "  validation accuracy: 53.47 (7702 / 14403), f1 (weighted): 37.26, loss: 7.14e-01\n",
      "  time: 134s (wall 76s)\n",
      "step 2600 / 7201 (epoch 5.42 / 15):\n",
      "  learning_rate = 7.74e-04, loss_average = 7.10e-01\n",
      "  validation accuracy: 53.47 (7702 / 14403), f1 (weighted): 37.26, loss: 7.14e-01\n",
      "  time: 139s (wall 78s)\n",
      "step 2700 / 7201 (epoch 5.62 / 15):\n",
      "  learning_rate = 7.74e-04, loss_average = 7.10e-01\n",
      "  validation accuracy: 53.47 (7702 / 14403), f1 (weighted): 37.26, loss: 7.14e-01\n",
      "  time: 144s (wall 81s)\n",
      "step 2800 / 7201 (epoch 5.83 / 15):\n",
      "  learning_rate = 7.74e-04, loss_average = 7.10e-01\n",
      "  validation accuracy: 53.47 (7702 / 14403), f1 (weighted): 37.26, loss: 7.14e-01\n",
      "  time: 150s (wall 84s)\n",
      "step 2900 / 7201 (epoch 6.04 / 15):\n",
      "  learning_rate = 7.35e-04, loss_average = 7.10e-01\n",
      "  validation accuracy: 53.47 (7702 / 14403), f1 (weighted): 37.26, loss: 7.14e-01\n",
      "  time: 155s (wall 87s)\n",
      "step 3000 / 7201 (epoch 6.25 / 15):\n",
      "  learning_rate = 7.35e-04, loss_average = 7.09e-01\n",
      "  validation accuracy: 53.47 (7702 / 14403), f1 (weighted): 37.26, loss: 7.14e-01\n",
      "  time: 160s (wall 90s)\n",
      "step 3100 / 7201 (epoch 6.46 / 15):\n",
      "  learning_rate = 7.35e-04, loss_average = 7.11e-01\n",
      "  validation accuracy: 53.47 (7702 / 14403), f1 (weighted): 37.26, loss: 7.14e-01\n",
      "  time: 165s (wall 93s)\n",
      "step 3200 / 7201 (epoch 6.67 / 15):\n",
      "  learning_rate = 7.35e-04, loss_average = 7.09e-01\n",
      "  validation accuracy: 53.47 (7702 / 14403), f1 (weighted): 37.26, loss: 7.14e-01\n",
      "  time: 170s (wall 95s)\n",
      "step 3300 / 7201 (epoch 6.87 / 15):\n",
      "  learning_rate = 7.35e-04, loss_average = 7.08e-01\n",
      "  validation accuracy: 53.47 (7702 / 14403), f1 (weighted): 37.26, loss: 7.14e-01\n",
      "  time: 175s (wall 98s)\n",
      "step 3400 / 7201 (epoch 7.08 / 15):\n",
      "  learning_rate = 6.98e-04, loss_average = 7.10e-01\n",
      "  validation accuracy: 53.47 (7702 / 14403), f1 (weighted): 37.26, loss: 7.14e-01\n",
      "  time: 181s (wall 101s)\n",
      "step 3500 / 7201 (epoch 7.29 / 15):\n",
      "  learning_rate = 6.98e-04, loss_average = 7.11e-01\n",
      "  validation accuracy: 53.47 (7702 / 14403), f1 (weighted): 37.26, loss: 7.14e-01\n",
      "  time: 186s (wall 103s)\n",
      "step 3600 / 7201 (epoch 7.50 / 15):\n",
      "  learning_rate = 6.98e-04, loss_average = 7.08e-01\n",
      "  validation accuracy: 53.47 (7702 / 14403), f1 (weighted): 37.26, loss: 7.14e-01\n",
      "  time: 191s (wall 106s)\n",
      "step 3700 / 7201 (epoch 7.71 / 15):\n",
      "  learning_rate = 6.98e-04, loss_average = 7.10e-01\n",
      "  validation accuracy: 53.47 (7702 / 14403), f1 (weighted): 37.26, loss: 7.14e-01\n",
      "  time: 196s (wall 110s)\n",
      "step 3800 / 7201 (epoch 7.91 / 15):\n",
      "  learning_rate = 6.98e-04, loss_average = 7.09e-01\n",
      "  validation accuracy: 53.47 (7702 / 14403), f1 (weighted): 37.26, loss: 7.14e-01\n",
      "  time: 201s (wall 113s)\n",
      "step 3900 / 7201 (epoch 8.12 / 15):\n",
      "  learning_rate = 6.63e-04, loss_average = 7.10e-01\n",
      "  validation accuracy: 53.47 (7702 / 14403), f1 (weighted): 37.26, loss: 7.14e-01\n",
      "  time: 206s (wall 115s)\n",
      "step 4000 / 7201 (epoch 8.33 / 15):\n",
      "  learning_rate = 6.63e-04, loss_average = 7.10e-01\n",
      "  validation accuracy: 53.47 (7702 / 14403), f1 (weighted): 37.26, loss: 7.14e-01\n",
      "  time: 211s (wall 118s)\n",
      "step 4100 / 7201 (epoch 8.54 / 15):\n",
      "  learning_rate = 6.63e-04, loss_average = 7.09e-01\n",
      "  validation accuracy: 53.47 (7702 / 14403), f1 (weighted): 37.26, loss: 7.14e-01\n",
      "  time: 217s (wall 121s)\n",
      "step 4200 / 7201 (epoch 8.75 / 15):\n",
      "  learning_rate = 6.63e-04, loss_average = 7.10e-01\n",
      "  validation accuracy: 53.47 (7702 / 14403), f1 (weighted): 37.26, loss: 7.14e-01\n",
      "  time: 222s (wall 124s)\n",
      "step 4300 / 7201 (epoch 8.96 / 15):\n",
      "  learning_rate = 6.63e-04, loss_average = 7.08e-01\n",
      "  validation accuracy: 53.47 (7702 / 14403), f1 (weighted): 37.26, loss: 7.14e-01\n",
      "  time: 227s (wall 126s)\n",
      "step 4400 / 7201 (epoch 9.16 / 15):\n",
      "  learning_rate = 6.30e-04, loss_average = 7.12e-01\n",
      "  validation accuracy: 53.47 (7702 / 14403), f1 (weighted): 37.26, loss: 7.14e-01\n",
      "  time: 232s (wall 129s)\n",
      "step 4500 / 7201 (epoch 9.37 / 15):\n",
      "  learning_rate = 6.30e-04, loss_average = 7.10e-01\n",
      "  validation accuracy: 53.47 (7702 / 14403), f1 (weighted): 37.26, loss: 7.14e-01\n",
      "  time: 237s (wall 132s)\n",
      "step 4600 / 7201 (epoch 9.58 / 15):\n",
      "  learning_rate = 6.30e-04, loss_average = 7.10e-01\n",
      "  validation accuracy: 53.47 (7702 / 14403), f1 (weighted): 37.26, loss: 7.14e-01\n",
      "  time: 242s (wall 134s)\n",
      "step 4700 / 7201 (epoch 9.79 / 15):\n",
      "  learning_rate = 6.30e-04, loss_average = 7.10e-01\n",
      "  validation accuracy: 53.47 (7702 / 14403), f1 (weighted): 37.26, loss: 7.14e-01\n",
      "  time: 247s (wall 137s)\n",
      "step 4800 / 7201 (epoch 10.00 / 15):\n",
      "  learning_rate = 6.30e-04, loss_average = 7.09e-01\n",
      "  validation accuracy: 53.47 (7702 / 14403), f1 (weighted): 37.26, loss: 7.14e-01\n",
      "  time: 252s (wall 140s)\n"
     ]
    },
    {
     "name": "stdout",
     "output_type": "stream",
     "text": [
      "step 4900 / 7201 (epoch 10.21 / 15):\n",
      "  learning_rate = 5.99e-04, loss_average = 7.09e-01\n",
      "  validation accuracy: 53.47 (7702 / 14403), f1 (weighted): 37.26, loss: 7.14e-01\n",
      "  time: 257s (wall 143s)\n",
      "step 5000 / 7201 (epoch 10.41 / 15):\n",
      "  learning_rate = 5.99e-04, loss_average = 7.11e-01\n",
      "  validation accuracy: 53.47 (7702 / 14403), f1 (weighted): 37.26, loss: 7.14e-01\n",
      "  time: 262s (wall 145s)\n",
      "step 5100 / 7201 (epoch 10.62 / 15):\n",
      "  learning_rate = 5.99e-04, loss_average = 7.10e-01\n",
      "  validation accuracy: 53.47 (7702 / 14403), f1 (weighted): 37.26, loss: 7.14e-01\n",
      "  time: 267s (wall 148s)\n",
      "step 5200 / 7201 (epoch 10.83 / 15):\n",
      "  learning_rate = 5.99e-04, loss_average = 7.09e-01\n",
      "  validation accuracy: 53.47 (7702 / 14403), f1 (weighted): 37.26, loss: 7.14e-01\n",
      "  time: 272s (wall 151s)\n",
      "step 5300 / 7201 (epoch 11.04 / 15):\n",
      "  learning_rate = 5.69e-04, loss_average = 7.11e-01\n",
      "  validation accuracy: 53.47 (7702 / 14403), f1 (weighted): 37.26, loss: 7.14e-01\n",
      "  time: 277s (wall 153s)\n",
      "step 5400 / 7201 (epoch 11.25 / 15):\n",
      "  learning_rate = 5.69e-04, loss_average = 7.09e-01\n",
      "  validation accuracy: 53.47 (7702 / 14403), f1 (weighted): 37.26, loss: 7.14e-01\n",
      "  time: 282s (wall 156s)\n",
      "step 5500 / 7201 (epoch 11.46 / 15):\n",
      "  learning_rate = 5.69e-04, loss_average = 7.09e-01\n",
      "  validation accuracy: 53.47 (7702 / 14403), f1 (weighted): 37.26, loss: 7.14e-01\n",
      "  time: 287s (wall 159s)\n",
      "step 5600 / 7201 (epoch 11.66 / 15):\n",
      "  learning_rate = 5.69e-04, loss_average = 7.09e-01\n",
      "  validation accuracy: 53.47 (7702 / 14403), f1 (weighted): 37.26, loss: 7.14e-01\n",
      "  time: 292s (wall 161s)\n",
      "step 5700 / 7201 (epoch 11.87 / 15):\n",
      "  learning_rate = 5.69e-04, loss_average = 7.10e-01\n",
      "  validation accuracy: 53.47 (7702 / 14403), f1 (weighted): 37.26, loss: 7.14e-01\n",
      "  time: 297s (wall 164s)\n",
      "step 5800 / 7201 (epoch 12.08 / 15):\n",
      "  learning_rate = 5.40e-04, loss_average = 7.09e-01\n",
      "  validation accuracy: 53.47 (7702 / 14403), f1 (weighted): 37.26, loss: 7.14e-01\n",
      "  time: 302s (wall 167s)\n",
      "step 5900 / 7201 (epoch 12.29 / 15):\n",
      "  learning_rate = 5.40e-04, loss_average = 7.09e-01\n",
      "  validation accuracy: 53.47 (7702 / 14403), f1 (weighted): 37.26, loss: 7.14e-01\n",
      "  time: 307s (wall 169s)\n",
      "step 6000 / 7201 (epoch 12.50 / 15):\n",
      "  learning_rate = 5.40e-04, loss_average = 7.09e-01\n",
      "  validation accuracy: 53.47 (7702 / 14403), f1 (weighted): 37.26, loss: 7.14e-01\n",
      "  time: 312s (wall 172s)\n",
      "step 6100 / 7201 (epoch 12.71 / 15):\n",
      "  learning_rate = 5.40e-04, loss_average = 7.10e-01\n",
      "  validation accuracy: 53.47 (7702 / 14403), f1 (weighted): 37.26, loss: 7.14e-01\n",
      "  time: 317s (wall 175s)\n",
      "step 6200 / 7201 (epoch 12.91 / 15):\n",
      "  learning_rate = 5.40e-04, loss_average = 7.10e-01\n",
      "  validation accuracy: 53.47 (7702 / 14403), f1 (weighted): 37.26, loss: 7.14e-01\n",
      "  time: 322s (wall 177s)\n",
      "step 6300 / 7201 (epoch 13.12 / 15):\n",
      "  learning_rate = 5.13e-04, loss_average = 7.11e-01\n",
      "  validation accuracy: 53.47 (7702 / 14403), f1 (weighted): 37.26, loss: 7.13e-01\n",
      "  time: 327s (wall 180s)\n",
      "step 6400 / 7201 (epoch 13.33 / 15):\n",
      "  learning_rate = 5.13e-04, loss_average = 7.09e-01\n",
      "  validation accuracy: 53.47 (7702 / 14403), f1 (weighted): 37.26, loss: 7.13e-01\n",
      "  time: 332s (wall 182s)\n",
      "step 6500 / 7201 (epoch 13.54 / 15):\n",
      "  learning_rate = 5.13e-04, loss_average = 7.10e-01\n",
      "  validation accuracy: 53.47 (7702 / 14403), f1 (weighted): 37.26, loss: 7.13e-01\n",
      "  time: 337s (wall 185s)\n",
      "step 6600 / 7201 (epoch 13.75 / 15):\n",
      "  learning_rate = 5.13e-04, loss_average = 7.11e-01\n",
      "  validation accuracy: 53.47 (7702 / 14403), f1 (weighted): 37.26, loss: 7.13e-01\n",
      "  time: 342s (wall 188s)\n",
      "step 6700 / 7201 (epoch 13.96 / 15):\n",
      "  learning_rate = 5.13e-04, loss_average = 7.09e-01\n",
      "  validation accuracy: 53.47 (7702 / 14403), f1 (weighted): 37.26, loss: 7.13e-01\n",
      "  time: 347s (wall 191s)\n",
      "step 6800 / 7201 (epoch 14.16 / 15):\n",
      "  learning_rate = 4.88e-04, loss_average = 7.08e-01\n",
      "  validation accuracy: 53.47 (7702 / 14403), f1 (weighted): 37.26, loss: 7.13e-01\n",
      "  time: 352s (wall 193s)\n",
      "step 6900 / 7201 (epoch 14.37 / 15):\n",
      "  learning_rate = 4.88e-04, loss_average = 7.10e-01\n",
      "  validation accuracy: 53.47 (7702 / 14403), f1 (weighted): 37.26, loss: 7.13e-01\n",
      "  time: 357s (wall 196s)\n",
      "step 7000 / 7201 (epoch 14.58 / 15):\n",
      "  learning_rate = 4.88e-04, loss_average = 7.11e-01\n",
      "  validation accuracy: 53.47 (7702 / 14403), f1 (weighted): 37.26, loss: 7.13e-01\n",
      "  time: 362s (wall 199s)\n",
      "step 7100 / 7201 (epoch 14.79 / 15):\n",
      "  learning_rate = 4.88e-04, loss_average = 7.11e-01\n",
      "  validation accuracy: 53.47 (7702 / 14403), f1 (weighted): 37.26, loss: 7.13e-01\n",
      "  time: 367s (wall 202s)\n",
      "step 7200 / 7201 (epoch 15.00 / 15):\n",
      "  learning_rate = 4.88e-04, loss_average = 7.11e-01\n",
      "  validation accuracy: 53.47 (7702 / 14403), f1 (weighted): 37.26, loss: 7.13e-01\n",
      "  time: 373s (wall 205s)\n",
      "step 7201 / 7201 (epoch 15.00 / 15):\n",
      "  learning_rate = 4.88e-04, loss_average = 7.11e-01\n",
      "  validation accuracy: 53.47 (7702 / 14403), f1 (weighted): 37.26, loss: 7.13e-01\n",
      "  time: 375s (wall 206s)\n",
      "validation accuracy: peak = 53.48, mean = 53.47\n"
     ]
    }
   ],
   "source": [
    "model = models.cgcnn(L, **params)\n",
    "accuracy, loss, t_step = model.fit(X_train, y_train, X_val, y_val)"
   ]
  },
  {
   "cell_type": "markdown",
   "metadata": {},
   "source": [
    "# 4 Evaluation\n",
    "\n",
    "We often want to monitor:\n",
    "1. The convergence, i.e. the training loss and the classification accuracy on the validation set.\n",
    "2. The performance, i.e. the classification accuracy on the testing set (to be compared with the training set accuracy to spot overfitting).\n",
    "\n",
    "The `model_perf` class in [utils.py](utils.py) can be used to compactly evaluate multiple models."
   ]
  },
  {
   "cell_type": "code",
   "execution_count": 9,
   "metadata": {},
   "outputs": [
    {
     "data": {
      "image/png": "[encoded data removed]",
      "text/plain": [
       "<Figure size 1080x360 with 2 Axes>"
      ]
     },
     "metadata": {
      "needs_background": "light"
     },
     "output_type": "display_data"
    }
   ],
   "source": [
    "fig, ax1 = plt.subplots(figsize=(15, 5))\n",
    "ax1.plot(accuracy, 'b.-')\n",
    "ax1.set_ylabel('validation accuracy', color='b')\n",
    "ax2 = ax1.twinx()\n",
    "ax2.plot(loss, 'g.-')\n",
    "ax2.set_ylabel('training loss', color='g')\n",
    "plt.show()"
   ]
  },
  {
   "cell_type": "code",
   "execution_count": 10,
   "metadata": {},
   "outputs": [
    {
     "name": "stdout",
     "output_type": "stream",
     "text": [
      "Time per step: 28.59 ms\n"
     ]
    }
   ],
   "source": [
    "print('Time per step: {:.2f} ms'.format(t_step*1000))"
   ]
  },
  {
   "cell_type": "code",
   "execution_count": 11,
   "metadata": {},
   "outputs": [
    {
     "name": "stderr",
     "output_type": "stream",
     "text": [
      "W0913 20:29:16.440633 140597250778944 deprecation.py:323] From /home/anesterov/anaconda3/lib/python3.7/site-packages/tensorflow/python/training/saver.py:1276: checkpoint_exists (from tensorflow.python.training.checkpoint_management) is deprecated and will be removed in a future version.\n",
      "Instructions for updating:\n",
      "Use standard file APIs to check for files with this prefix.\n"
     ]
    },
    {
     "name": "stdout",
     "output_type": "stream",
     "text": [
      "accuracy: 52.77 (43070 / 81619), f1 (weighted): 36.46, loss: 7.10e-01\n",
      "time: 12s (wall 7s)\n"
     ]
    }
   ],
   "source": [
    "res = model.evaluate(X_test, y_test)\n",
    "print(res[0])"
   ]
  }
 ],
 "metadata": {
  "kernelspec": {
   "display_name": "Python 3",
   "language": "python",
   "name": "python3"
  },
  "language_info": {
   "codemirror_mode": {
    "name": "ipython",
    "version": 3
   },
   "file_extension": ".py",
   "mimetype": "text/x-python",
   "name": "python",
   "nbconvert_exporter": "python",
   "pygments_lexer": "ipython3",
   "version": "3.7.3"
  }
 },
 "nbformat": 4,
 "nbformat_minor": 1
}

{
 "cells": [
  {
   "cell_type": "markdown",
   "metadata": {},
   "source": [
    "# Introduction\n",
    "\n",
    "$\\newcommand{\\G}{\\mathcal{G}}$\n",
    "$\\newcommand{\\V}{\\mathcal{V}}$\n",
    "$\\newcommand{\\E}{\\mathcal{E}}$\n",
    "$\\newcommand{\\R}{\\mathbb{R}}$\n",
    "\n",
    "This notebook shows how to apply our graph ConvNet ([paper] & [code]), or any other, to your structured or unstructured data. For this example, we assume that we have $n$ samples $x_i \\in \\R^{d_x}$ arranged in a data matrix $$X = [x_1, ..., x_n]^T \\in \\R^{n \\times d_x}.$$ Each sample $x_i$ is associated with a vector $y_i \\in \\R^{d_y}$ for a regression task or a label $y_i \\in \\{0,\\ldots,C\\}$ for a classification task.\n",
    "\n",
    "[paper]: https://arxiv.org/abs/1606.09375\n",
    "[code]:  https://github.com/mdeff/cnn_graph\n",
    "\n",
    "From there, we'll structure our data with a graph $\\G = (\\V, \\E, A)$ where $\\V$ is the set of $d_x = |\\V|$ vertices, $\\E$ is the set of edges and $A \\in \\R^{d_x \\times d_x}$ is the adjacency matrix. That matrix represents the weight of each edge, i.e. $A_{i,j}$ is the weight of the edge connecting $v_i \\in \\V$ to $v_j \\in \\V$. The weights of that feature graph thus represent pairwise relationships between features $i$ and $j$. We call that regime **signal classification / regression**, as the samples $x_i$ to be classified or regressed are graph signals.\n",
    "\n",
    "Other modelling possibilities include:\n",
    "1. Using a data graph, i.e. an adjacency matrix $A \\in \\R^{n \\times n}$ which represents pairwise relationships between samples $x_i \\in \\R^{d_x}$. The problem is here to predict a graph signal $y \\in \\R^{n \\times d_y}$ given a graph characterized by $A$ and some graph signals $X \\in \\R^{n \\times d_x}$. We call that regime **node classification / regression**, as we classify or regress nodes instead of signals.\n",
    "2. Another problem of interest is whole graph classification, with or without signals on top. We'll call that third regime **graph classification / regression**. The problem here is to classify or regress a whole graph $A_i \\in \\R^{n \\times n}$ (with or without an associated data matrix $X_i \\in \\R^{n \\times d_x}$) into $y_i \\in \\R^{d_y}$. In case we have no signal, we can use a constant vector $X_i = 1_n$ of size $n$."
   ]
  },
  {
   "cell_type": "code",
   "execution_count": 1,
   "metadata": {},
   "outputs": [
    {
     "name": "stderr",
     "output_type": "stream",
     "text": [
      "/home/anesterov/anaconda3/lib/python3.7/site-packages/tensorflow/python/framework/dtypes.py:516: FutureWarning: Passing (type, 1) or '1type' as a synonym of type is deprecated; in a future version of numpy, it will be understood as (type, (1,)) / '(1,)type'.\n",
      "  _np_qint8 = np.dtype([(\"qint8\", np.int8, 1)])\n",
      "/home/anesterov/anaconda3/lib/python3.7/site-packages/tensorflow/python/framework/dtypes.py:517: FutureWarning: Passing (type, 1) or '1type' as a synonym of type is deprecated; in a future version of numpy, it will be understood as (type, (1,)) / '(1,)type'.\n",
      "  _np_quint8 = np.dtype([(\"quint8\", np.uint8, 1)])\n",
      "/home/anesterov/anaconda3/lib/python3.7/site-packages/tensorflow/python/framework/dtypes.py:518: FutureWarning: Passing (type, 1) or '1type' as a synonym of type is deprecated; in a future version of numpy, it will be understood as (type, (1,)) / '(1,)type'.\n",
      "  _np_qint16 = np.dtype([(\"qint16\", np.int16, 1)])\n",
      "/home/anesterov/anaconda3/lib/python3.7/site-packages/tensorflow/python/framework/dtypes.py:519: FutureWarning: Passing (type, 1) or '1type' as a synonym of type is deprecated; in a future version of numpy, it will be understood as (type, (1,)) / '(1,)type'.\n",
      "  _np_quint16 = np.dtype([(\"quint16\", np.uint16, 1)])\n",
      "/home/anesterov/anaconda3/lib/python3.7/site-packages/tensorflow/python/framework/dtypes.py:520: FutureWarning: Passing (type, 1) or '1type' as a synonym of type is deprecated; in a future version of numpy, it will be understood as (type, (1,)) / '(1,)type'.\n",
      "  _np_qint32 = np.dtype([(\"qint32\", np.int32, 1)])\n",
      "/home/anesterov/anaconda3/lib/python3.7/site-packages/tensorflow/python/framework/dtypes.py:525: FutureWarning: Passing (type, 1) or '1type' as a synonym of type is deprecated; in a future version of numpy, it will be understood as (type, (1,)) / '(1,)type'.\n",
      "  np_resource = np.dtype([(\"resource\", np.ubyte, 1)])\n",
      "/home/anesterov/anaconda3/lib/python3.7/site-packages/tensorboard/compat/tensorflow_stub/dtypes.py:541: FutureWarning: Passing (type, 1) or '1type' as a synonym of type is deprecated; in a future version of numpy, it will be understood as (type, (1,)) / '(1,)type'.\n",
      "  _np_qint8 = np.dtype([(\"qint8\", np.int8, 1)])\n",
      "/home/anesterov/anaconda3/lib/python3.7/site-packages/tensorboard/compat/tensorflow_stub/dtypes.py:542: FutureWarning: Passing (type, 1) or '1type' as a synonym of type is deprecated; in a future version of numpy, it will be understood as (type, (1,)) / '(1,)type'.\n",
      "  _np_quint8 = np.dtype([(\"quint8\", np.uint8, 1)])\n",
      "/home/anesterov/anaconda3/lib/python3.7/site-packages/tensorboard/compat/tensorflow_stub/dtypes.py:543: FutureWarning: Passing (type, 1) or '1type' as a synonym of type is deprecated; in a future version of numpy, it will be understood as (type, (1,)) / '(1,)type'.\n",
      "  _np_qint16 = np.dtype([(\"qint16\", np.int16, 1)])\n",
      "/home/anesterov/anaconda3/lib/python3.7/site-packages/tensorboard/compat/tensorflow_stub/dtypes.py:544: FutureWarning: Passing (type, 1) or '1type' as a synonym of type is deprecated; in a future version of numpy, it will be understood as (type, (1,)) / '(1,)type'.\n",
      "  _np_quint16 = np.dtype([(\"quint16\", np.uint16, 1)])\n",
      "/home/anesterov/anaconda3/lib/python3.7/site-packages/tensorboard/compat/tensorflow_stub/dtypes.py:545: FutureWarning: Passing (type, 1) or '1type' as a synonym of type is deprecated; in a future version of numpy, it will be understood as (type, (1,)) / '(1,)type'.\n",
      "  _np_qint32 = np.dtype([(\"qint32\", np.int32, 1)])\n",
      "/home/anesterov/anaconda3/lib/python3.7/site-packages/tensorboard/compat/tensorflow_stub/dtypes.py:550: FutureWarning: Passing (type, 1) or '1type' as a synonym of type is deprecated; in a future version of numpy, it will be understood as (type, (1,)) / '(1,)type'.\n",
      "  np_resource = np.dtype([(\"resource\", np.ubyte, 1)])\n"
     ]
    }
   ],
   "source": [
    "from lib import models, graph, coarsening, utils\n",
    "import numpy as np\n",
    "import matplotlib.pyplot as plt\n",
    "import scipy\n",
    "import data_converter as dst\n",
    "%matplotlib inline"
   ]
  },
  {
   "cell_type": "markdown",
   "metadata": {},
   "source": [
    "# 1 Data\n",
    "\n",
    "For the purpose of the demo, let's create a random data matrix $X \\in \\R^{n \\times d_x}$ and somehow infer a label $y_i = f(x_i)$."
   ]
  },
  {
   "cell_type": "code",
   "execution_count": 2,
   "metadata": {},
   "outputs": [
    {
     "name": "stdout",
     "output_type": "stream",
     "text": [
      "144033\n",
      "144033\n",
      "{'-1', '1'}\n",
      "(144033, 196)\n",
      "(144033,)\n"
     ]
    }
   ],
   "source": [
    "curr_data_set = dst.get_twitter_data_set()\n",
    "count_data = len(curr_data_set[\"data\"])\n",
    "count_labels = len(curr_data_set[\"labels\"])\n",
    "raw_labels = [0 if float(label_elem) < 0  else 1 for label_elem in curr_data_set[\"labels\"]]\n",
    "assert count_data == count_labels\n",
    "count_value_labels = len(curr_data_set[\"label_values\"])\n",
    "for matr in curr_data_set[\"data\"]:\n",
    "    assert len(curr_data_set[\"data\"][0]) == len(matr)\n",
    "\n",
    "X_not_full = np.asarray(curr_data_set[\"data\"])\n",
    "X = X_not_full.reshape((X_not_full.shape[0], X_not_full.shape[1] * X_not_full.shape[2]))\n",
    "y = np.asarray(raw_labels)\n",
    "\n",
    "print(count_data)\n",
    "print(count_labels)\n",
    "print(curr_data_set[\"label_values\"])\n",
    "print(X.shape)\n",
    "print(y.shape)\n",
    "\n",
    "d = X.shape[1]   # Dimensionality.\n",
    "n = X.shape[0]   # Number of samples.\n",
    "c = count_labels # Number of feature communities."
   ]
  },
  {
   "cell_type": "markdown",
   "metadata": {},
   "source": [
    "Then split this dataset into training, validation and testing sets."
   ]
  },
  {
   "cell_type": "code",
   "execution_count": 3,
   "metadata": {},
   "outputs": [],
   "source": [
    "n_train = n // 3\n",
    "n_val = n // 10\n",
    "\n",
    "X_train = X[:n_train]\n",
    "X_val   = X[n_train:n_train+n_val]\n",
    "X_test  = X[n_train+n_val:]\n",
    "\n",
    "y_train = y[:n_train]\n",
    "y_val   = y[n_train:n_train+n_val]\n",
    "y_test  = y[n_train+n_val:]"
   ]
  },
  {
   "cell_type": "markdown",
   "metadata": {},
   "source": [
    "# 2 Graph\n",
    "\n",
    "The second thing we need is a **graph between features**, i.e. an adjacency matrix $A \\in \\mathbb{R}^{d_x \\times d_x}$.\n",
    "Structuring data with graphs is very flexible: it can accomodate both structured and unstructured data.\n",
    "1. **Structured data**.\n",
    "    1. The data is structured by an Euclidean domain, e.g. $x_i$ represents an image, a sound or a video. We can use a classical ConvNet with 1D, 2D or 3D convolutions or a graph ConvNet with a line or grid graph (however losing the orientation).\n",
    "    2. The data is structured by a graph, e.g. the data lies on a transportation, energy, brain or social network.\n",
    "2. **Unstructured data**. We could use a fully connected network, but the learning and computational complexities are gonna be large. An alternative is to construct a sparse similarity graph between features (or between samples) and use a graph ConvNet, effectively structuring the data and drastically reducing the number of parameters through weight sharing. As for classical ConvNets, the number of parameters are independent of the input size.\n",
    "\n",
    "There are many ways, supervised or unsupervised, to construct a graph given some data. And better the graph, better the performance ! For this example we'll define the adjacency matrix as a simple similarity measure between features. Below are the choices one has to make when constructing such a graph.\n",
    "1. The distance function. We'll use the Euclidean distance $d_{ij} = \\|x_i - x_j\\|_2$.\n",
    "2. The kernel. We'll use the Gaussian kernel $a_{ij} = \\exp(d_{ij}^2 / \\sigma^2)$.\n",
    "3. The type of graph. We'll use a $k$ nearest neigbors (kNN) graph."
   ]
  },
  {
   "cell_type": "code",
   "execution_count": 4,
   "metadata": {},
   "outputs": [
    {
     "name": "stdout",
     "output_type": "stream",
     "text": [
      "d = |V| = 196, k|V| < |E| = 1860\n"
     ]
    },
    {
     "data": {
      "image/png": "[encoded data removed]",
      "text/plain": [
       "<Figure size 432x288 with 1 Axes>"
      ]
     },
     "metadata": {
      "needs_background": "light"
     },
     "output_type": "display_data"
    }
   ],
   "source": [
    "dist, idx = graph.distance_scipy_spatial(X_train.T, k=5, metric='euclidean')\n",
    "A = graph.adjacency(dist, idx).astype(np.float32)\n",
    "\n",
    "assert A.shape == (d, d)\n",
    "print('d = |V| = {}, k|V| < |E| = {}'.format(d, A.nnz))\n",
    "plt.spy(A, markersize=2, color='black');"
   ]
  },
  {
   "cell_type": "markdown",
   "metadata": {},
   "source": [
    "To be able to pool graph signals, we need first to coarsen the graph, i.e. to find which vertices to group together. At the end we'll have multiple graphs, like a pyramid, each at one level of resolution. The finest graph is where the input data lies, the coarsest graph is where the data at the output of the graph convolutional layers lie. That data, of reduced spatial dimensionality, can then be fed to a fully connected layer.\n",
    "\n",
    "The parameter here is the number of times to coarsen the graph. Each coarsening approximately reduces the size of the graph by a factor two. Thus if you want a pooling of size 4 in the first layer followed by a pooling of size 2 in the second, you'll need to coarsen $\\log_2(4+2) = 3$ times.\n",
    "\n",
    "After coarsening we rearrange the vertices (and add fake vertices) such that pooling a graph signal is analog to pooling a 1D signal. See the [paper] for details.\n",
    "\n",
    "[paper]: https://arxiv.org/abs/1606.09375"
   ]
  },
  {
   "cell_type": "code",
   "execution_count": 5,
   "metadata": {},
   "outputs": [
    {
     "name": "stdout",
     "output_type": "stream",
     "text": [
      "Layer 0: M_0 = |V| = 440 nodes (244 added),|E| = 930 edges\n",
      "Layer 1: M_1 = |V| = 220 nodes (96 added),|E| = 731 edges\n",
      "Layer 2: M_2 = |V| = 110 nodes (30 added),|E| = 517 edges\n",
      "Layer 3: M_3 = |V| = 55 nodes (0 added),|E| = 338 edges\n",
      "(48011, 440)\n",
      "(14403, 440)\n",
      "(81619, 440)\n"
     ]
    }
   ],
   "source": [
    "graphs, perm = coarsening.coarsen(A, levels=3, self_connections=True)\n",
    "\n",
    "X_train = coarsening.perm_data(X_train, perm)\n",
    "print(X_train.shape)\n",
    "X_val = coarsening.perm_data(X_val, perm)\n",
    "print(X_val.shape)\n",
    "X_test = coarsening.perm_data(X_test, perm)\n",
    "print(X_test.shape)"
   ]
  },
  {
   "cell_type": "markdown",
   "metadata": {},
   "source": [
    "We finally need to compute the graph Laplacian $L$ for each of our graphs (the original and the coarsened versions), defined by their adjacency matrices $A$. The sole parameter here is the type of Laplacian, e.g. the combinatorial Laplacian, the normalized Laplacian or the random walk Laplacian."
   ]
  },
  {
   "cell_type": "code",
   "execution_count": 6,
   "metadata": {},
   "outputs": [
    {
     "data": {
      "image/png": "[encoded data removed]",
      "text/plain": [
       "<Figure size 1224x360 with 1 Axes>"
      ]
     },
     "metadata": {
      "needs_background": "light"
     },
     "output_type": "display_data"
    }
   ],
   "source": [
    "L = [graph.laplacian(A, normalized=True) for A in graphs]\n",
    "graph.plot_spectrum(L)"
   ]
  },
  {
   "cell_type": "markdown",
   "metadata": {},
   "source": [
    "# 3 Graph ConvNet\n",
    "\n",
    "Here we apply the graph convolutional neural network to signals lying on graphs. After designing the architecture and setting the hyper-parameters, the model takes as inputs the data matrix $X$, the target $y$ and a list of graph Laplacians $L$, one per coarsening level.\n",
    "\n",
    "The data, architecture and hyper-parameters are absolutely *not engineered to showcase performance*. Its sole purpose is to illustrate usage and functionality."
   ]
  },
  {
   "cell_type": "code",
   "execution_count": 7,
   "metadata": {},
   "outputs": [],
   "source": [
    "params = dict()\n",
    "params['dir_name']       = 'twitter_dataset'\n",
    "params['num_epochs']     = 10\n",
    "params['batch_size']     = 100\n",
    "params['eval_frequency'] = 100\n",
    "\n",
    "# Building blocks.\n",
    "params['filter']         = 'chebyshev5'\n",
    "params['brelu']          = 'b1relu'\n",
    "params['pool']           = 'apool1'\n",
    "params['pool']           = 'mpool1'\n",
    "\n",
    "# Number of classes.\n",
    "C = y.max() + 1\n",
    "assert C == np.unique(y).size\n",
    "\n",
    "# Architecture.\n",
    "params['F']              = [30, 30]  # Number of graph convolutional filters.\n",
    "params['K']              = [15, 15]  # Polynomial orders.\n",
    "params['p']              = [4, 2]    # Pooling sizes.\n",
    "params['M']              = [10, C]  # Output dimensionality of fully connected layers.\n",
    "\n",
    "# Optimization.\n",
    "params['regularization'] = 5e-4\n",
    "params['dropout']        = 1\n",
    "params['learning_rate']  = 1e-3\n",
    "params['decay_rate']     = 0.95\n",
    "params['momentum']       = 0\n",
    "params['decay_steps']    = n_train / params['batch_size']"
   ]
  },
  {
   "cell_type": "code",
   "execution_count": null,
   "metadata": {},
   "outputs": [
    {
     "name": "stderr",
     "output_type": "stream",
     "text": [
      "WARNING: Logging before flag parsing goes to stderr.\n",
      "W0913 15:31:49.475713 140101497616192 deprecation_wrapper.py:119] From /home/anesterov/Documents/science/source/cnn_graph/lib/models.py:156: The name tf.placeholder is deprecated. Please use tf.compat.v1.placeholder instead.\n",
      "\n",
      "W0913 15:31:49.482000 140101497616192 deprecation_wrapper.py:119] From /home/anesterov/Documents/science/source/cnn_graph/lib/models.py:955: The name tf.variable_scope is deprecated. Please use tf.compat.v1.variable_scope instead.\n",
      "\n",
      "W0913 15:31:49.486372 140101497616192 deprecation_wrapper.py:119] From /home/anesterov/Documents/science/source/cnn_graph/lib/models.py:889: The name tf.sparse_reorder is deprecated. Please use tf.sparse.reorder instead.\n",
      "\n",
      "W0913 15:31:49.492683 140101497616192 deprecation_wrapper.py:119] From /home/anesterov/Documents/science/source/cnn_graph/lib/models.py:898: The name tf.sparse_tensor_dense_matmul is deprecated. Please use tf.sparse.sparse_dense_matmul instead.\n",
      "\n",
      "W0913 15:31:49.588546 140101497616192 deprecation_wrapper.py:119] From /home/anesterov/Documents/science/source/cnn_graph/lib/models.py:274: The name tf.get_variable is deprecated. Please use tf.compat.v1.get_variable instead.\n",
      "\n",
      "W0913 15:31:49.595345 140101497616192 deprecation_wrapper.py:119] From /home/anesterov/Documents/science/source/cnn_graph/lib/models.py:277: The name tf.summary.histogram is deprecated. Please use tf.compat.v1.summary.histogram instead.\n",
      "\n",
      "W0913 15:31:49.607420 140101497616192 deprecation_wrapper.py:119] From /home/anesterov/Documents/science/source/cnn_graph/lib/models.py:928: The name tf.nn.max_pool is deprecated. Please use tf.nn.max_pool2d instead.\n",
      "\n"
     ]
    },
    {
     "name": "stdout",
     "output_type": "stream",
     "text": [
      "NN architecture\n",
      "  input: M_0 = 440\n",
      "  layer 1: cgconv1\n",
      "    representation: M_0 * F_1 / p_1 = 440 * 30 / 4 = 3300\n",
      "    weights: F_0 * F_1 * K_1 = 1 * 30 * 15 = 450\n",
      "    biases: F_1 = 30\n",
      "  layer 2: cgconv2\n",
      "    representation: M_1 * F_2 / p_2 = 110 * 30 / 2 = 1650\n",
      "    weights: F_1 * F_2 * K_2 = 30 * 30 * 15 = 13500\n",
      "    biases: F_2 = 30\n",
      "  layer 3: fc1\n",
      "    representation: M_3 = 10\n",
      "    weights: M_2 * M_3 = 1650 * 10 = 16500\n",
      "    biases: M_3 = 10\n",
      "  layer 4: logits (softmax)\n",
      "    representation: M_4 = 2\n",
      "    weights: M_3 * M_4 = 10 * 2 = 20\n",
      "    biases: M_4 = 2\n"
     ]
    },
    {
     "name": "stderr",
     "output_type": "stream",
     "text": [
      "W0913 15:31:49.740992 140101497616192 deprecation.py:506] From /home/anesterov/Documents/science/source/cnn_graph/lib/models.py:969: calling dropout (from tensorflow.python.ops.nn_ops) with keep_prob is deprecated and will be removed in a future version.\n",
      "Instructions for updating:\n",
      "Please use `rate` instead of `keep_prob`. Rate should be set to `rate = 1 - keep_prob`.\n",
      "W0913 15:31:49.768688 140101497616192 deprecation.py:323] From /home/anesterov/Documents/science/source/cnn_graph/lib/models.py:209: to_int64 (from tensorflow.python.ops.math_ops) is deprecated and will be removed in a future version.\n",
      "Instructions for updating:\n",
      "Use `tf.cast` instead.\n",
      "W0913 15:31:49.780559 140101497616192 deprecation_wrapper.py:119] From /home/anesterov/Documents/science/source/cnn_graph/lib/models.py:217: The name tf.summary.scalar is deprecated. Please use tf.compat.v1.summary.scalar instead.\n",
      "\n",
      "W0913 15:31:49.823418 140101497616192 deprecation_wrapper.py:119] From /home/anesterov/Documents/science/source/cnn_graph/lib/models.py:236: The name tf.train.exponential_decay is deprecated. Please use tf.compat.v1.train.exponential_decay instead.\n",
      "\n",
      "W0913 15:31:49.833320 140101497616192 deprecation_wrapper.py:119] From /home/anesterov/Documents/science/source/cnn_graph/lib/models.py:241: The name tf.train.GradientDescentOptimizer is deprecated. Please use tf.compat.v1.train.GradientDescentOptimizer instead.\n",
      "\n",
      "W0913 15:31:50.302099 140101497616192 deprecation_wrapper.py:119] From /home/anesterov/Documents/science/source/cnn_graph/lib/models.py:171: The name tf.summary.merge_all is deprecated. Please use tf.compat.v1.summary.merge_all instead.\n",
      "\n",
      "W0913 15:31:50.304314 140101497616192 deprecation_wrapper.py:119] From /home/anesterov/Documents/science/source/cnn_graph/lib/models.py:172: The name tf.train.Saver is deprecated. Please use tf.compat.v1.train.Saver instead.\n",
      "\n",
      "W0913 15:31:50.347746 140101497616192 deprecation_wrapper.py:119] From /home/anesterov/Documents/science/source/cnn_graph/lib/models.py:87: The name tf.summary.FileWriter is deprecated. Please use tf.compat.v1.summary.FileWriter instead.\n",
      "\n"
     ]
    },
    {
     "name": "stdout",
     "output_type": "stream",
     "text": [
      "step 100 / 4801 (epoch 0.21 / 10):\n",
      "  learning_rate = 1.00e-03, loss_average = 7.41e-01\n",
      "  validation accuracy: 51.70 (7446 / 14403), f1 (weighted): 49.14, loss: 7.37e-01\n",
      "  time: 36s (wall 15s)\n",
      "step 200 / 4801 (epoch 0.42 / 10):\n",
      "  learning_rate = 1.00e-03, loss_average = 7.26e-01\n",
      "  validation accuracy: 48.95 (7050 / 14403), f1 (weighted): 43.77, loss: 7.44e-01\n",
      "  time: 74s (wall 31s)\n",
      "step 300 / 4801 (epoch 0.62 / 10):\n",
      "  learning_rate = 1.00e-03, loss_average = 7.27e-01\n",
      "  validation accuracy: 52.52 (7564 / 14403), f1 (weighted): 45.07, loss: 7.28e-01\n",
      "  time: 111s (wall 46s)\n",
      "step 400 / 4801 (epoch 0.83 / 10):\n",
      "  learning_rate = 1.00e-03, loss_average = 7.23e-01\n",
      "  validation accuracy: 52.58 (7573 / 14403), f1 (weighted): 45.67, loss: 7.27e-01\n",
      "  time: 148s (wall 62s)\n",
      "step 500 / 4801 (epoch 1.04 / 10):\n",
      "  learning_rate = 9.50e-04, loss_average = 7.24e-01\n",
      "  validation accuracy: 52.79 (7604 / 14403), f1 (weighted): 44.38, loss: 7.27e-01\n",
      "  time: 185s (wall 77s)\n",
      "step 600 / 4801 (epoch 1.25 / 10):\n",
      "  learning_rate = 9.50e-04, loss_average = 7.26e-01\n"
     ]
    },
    {
     "name": "stderr",
     "output_type": "stream",
     "text": [
      "W0913 15:33:22.897886 140101497616192 deprecation.py:323] From /home/anesterov/anaconda3/lib/python3.7/site-packages/tensorflow/python/training/saver.py:960: remove_checkpoint (from tensorflow.python.training.checkpoint_management) is deprecated and will be removed in a future version.\n",
      "Instructions for updating:\n",
      "Use standard file APIs to delete files with this prefix.\n"
     ]
    },
    {
     "name": "stdout",
     "output_type": "stream",
     "text": [
      "  validation accuracy: 52.18 (7515 / 14403), f1 (weighted): 51.13, loss: 7.28e-01\n",
      "  time: 222s (wall 92s)\n",
      "step 700 / 4801 (epoch 1.46 / 10):\n",
      "  learning_rate = 9.50e-04, loss_average = 7.23e-01\n",
      "  validation accuracy: 52.02 (7493 / 14403), f1 (weighted): 49.97, loss: 7.27e-01\n",
      "  time: 259s (wall 108s)\n",
      "step 800 / 4801 (epoch 1.67 / 10):\n",
      "  learning_rate = 9.50e-04, loss_average = 7.28e-01\n",
      "  validation accuracy: 49.65 (7151 / 14403), f1 (weighted): 45.67, loss: 7.31e-01\n",
      "  time: 296s (wall 124s)\n",
      "step 900 / 4801 (epoch 1.87 / 10):\n",
      "  learning_rate = 9.50e-04, loss_average = 7.23e-01\n",
      "  validation accuracy: 49.53 (7134 / 14403), f1 (weighted): 45.17, loss: 7.31e-01\n",
      "  time: 332s (wall 139s)\n",
      "step 1000 / 4801 (epoch 2.08 / 10):\n",
      "  learning_rate = 9.03e-04, loss_average = 7.19e-01\n",
      "  validation accuracy: 52.97 (7629 / 14403), f1 (weighted): 42.85, loss: 7.29e-01\n",
      "  time: 368s (wall 153s)\n",
      "step 1100 / 4801 (epoch 2.29 / 10):\n",
      "  learning_rate = 9.03e-04, loss_average = 7.22e-01\n",
      "  validation accuracy: 50.39 (7257 / 14403), f1 (weighted): 48.89, loss: 7.29e-01\n",
      "  time: 405s (wall 168s)\n",
      "step 1200 / 4801 (epoch 2.50 / 10):\n",
      "  learning_rate = 9.03e-04, loss_average = 7.21e-01\n",
      "  validation accuracy: 53.27 (7672 / 14403), f1 (weighted): 38.87, loss: 7.28e-01\n",
      "  time: 442s (wall 185s)\n",
      "step 1300 / 4801 (epoch 2.71 / 10):\n",
      "  learning_rate = 9.03e-04, loss_average = 7.24e-01\n",
      "  validation accuracy: 53.32 (7679 / 14403), f1 (weighted): 37.92, loss: 7.26e-01\n",
      "  time: 478s (wall 200s)\n",
      "step 1400 / 4801 (epoch 2.92 / 10):\n",
      "  learning_rate = 9.03e-04, loss_average = 7.23e-01\n",
      "  validation accuracy: 52.43 (7551 / 14403), f1 (weighted): 46.50, loss: 7.27e-01\n",
      "  time: 514s (wall 215s)\n",
      "step 1500 / 4801 (epoch 3.12 / 10):\n",
      "  learning_rate = 8.57e-04, loss_average = 7.24e-01\n",
      "  validation accuracy: 52.37 (7543 / 14403), f1 (weighted): 50.68, loss: 7.27e-01\n",
      "  time: 551s (wall 231s)\n",
      "step 1600 / 4801 (epoch 3.33 / 10):\n",
      "  learning_rate = 8.57e-04, loss_average = 7.23e-01\n",
      "  validation accuracy: 52.58 (7573 / 14403), f1 (weighted): 45.68, loss: 7.27e-01\n",
      "  time: 589s (wall 248s)\n",
      "step 1700 / 4801 (epoch 3.54 / 10):\n",
      "  learning_rate = 8.57e-04, loss_average = 7.21e-01\n",
      "  validation accuracy: 52.93 (7623 / 14403), f1 (weighted): 42.08, loss: 7.27e-01\n",
      "  time: 627s (wall 264s)\n",
      "step 1800 / 4801 (epoch 3.75 / 10):\n",
      "  learning_rate = 8.57e-04, loss_average = 7.19e-01\n",
      "  validation accuracy: 53.13 (7652 / 14403), f1 (weighted): 43.81, loss: 7.26e-01\n",
      "  time: 664s (wall 279s)\n",
      "step 1900 / 4801 (epoch 3.96 / 10):\n",
      "  learning_rate = 8.57e-04, loss_average = 7.23e-01\n",
      "  validation accuracy: 51.41 (7405 / 14403), f1 (weighted): 51.26, loss: 7.28e-01\n",
      "  time: 700s (wall 294s)\n",
      "step 2000 / 4801 (epoch 4.17 / 10):\n",
      "  learning_rate = 8.15e-04, loss_average = 7.26e-01\n",
      "  validation accuracy: 51.55 (7425 / 14403), f1 (weighted): 51.54, loss: 7.29e-01\n",
      "  time: 737s (wall 310s)\n",
      "step 2100 / 4801 (epoch 4.37 / 10):\n",
      "  learning_rate = 8.15e-04, loss_average = 7.20e-01\n",
      "  validation accuracy: 52.73 (7594 / 14403), f1 (weighted): 43.65, loss: 7.26e-01\n",
      "  time: 774s (wall 327s)\n",
      "step 2200 / 4801 (epoch 4.58 / 10):\n",
      "  learning_rate = 8.15e-04, loss_average = 7.22e-01\n",
      "  validation accuracy: 52.86 (7613 / 14403), f1 (weighted): 45.95, loss: 7.26e-01\n",
      "  time: 811s (wall 342s)\n",
      "step 2300 / 4801 (epoch 4.79 / 10):\n",
      "  learning_rate = 8.15e-04, loss_average = 7.26e-01\n",
      "  validation accuracy: 51.84 (7467 / 14403), f1 (weighted): 51.90, loss: 7.27e-01\n",
      "  time: 847s (wall 357s)\n",
      "step 2400 / 4801 (epoch 5.00 / 10):\n",
      "  learning_rate = 8.15e-04, loss_average = 7.17e-01\n",
      "  validation accuracy: 52.59 (7574 / 14403), f1 (weighted): 46.10, loss: 7.27e-01\n",
      "  time: 883s (wall 372s)\n",
      "step 2500 / 4801 (epoch 5.21 / 10):\n",
      "  learning_rate = 7.74e-04, loss_average = 7.19e-01\n",
      "  validation accuracy: 52.70 (7591 / 14403), f1 (weighted): 43.19, loss: 7.27e-01\n",
      "  time: 920s (wall 387s)\n",
      "step 2600 / 4801 (epoch 5.42 / 10):\n",
      "  learning_rate = 7.74e-04, loss_average = 7.21e-01\n",
      "  validation accuracy: 52.33 (7537 / 14403), f1 (weighted): 51.26, loss: 7.27e-01\n",
      "  time: 958s (wall 404s)\n",
      "step 2700 / 4801 (epoch 5.62 / 10):\n",
      "  learning_rate = 7.74e-04, loss_average = 7.23e-01\n",
      "  validation accuracy: 52.86 (7614 / 14403), f1 (weighted): 46.43, loss: 7.26e-01\n",
      "  time: 995s (wall 420s)\n",
      "step 2800 / 4801 (epoch 5.83 / 10):\n",
      "  learning_rate = 7.74e-04, loss_average = 7.21e-01\n",
      "  validation accuracy: 52.85 (7612 / 14403), f1 (weighted): 45.03, loss: 7.26e-01\n",
      "  time: 1031s (wall 434s)\n",
      "step 2900 / 4801 (epoch 6.04 / 10):\n",
      "  learning_rate = 7.35e-04, loss_average = 7.20e-01\n",
      "  validation accuracy: 52.29 (7532 / 14403), f1 (weighted): 49.79, loss: 7.26e-01\n",
      "  time: 1067s (wall 448s)\n",
      "step 3000 / 4801 (epoch 6.25 / 10):\n",
      "  learning_rate = 7.35e-04, loss_average = 7.23e-01\n",
      "  validation accuracy: 51.60 (7432 / 14403), f1 (weighted): 51.65, loss: 7.28e-01\n",
      "  time: 1103s (wall 462s)\n",
      "step 3100 / 4801 (epoch 6.46 / 10):\n",
      "  learning_rate = 7.35e-04, loss_average = 7.25e-01\n",
      "  validation accuracy: 51.47 (7413 / 14403), f1 (weighted): 51.52, loss: 7.29e-01\n",
      "  time: 1138s (wall 476s)\n",
      "step 3200 / 4801 (epoch 6.67 / 10):\n",
      "  learning_rate = 7.35e-04, loss_average = 7.24e-01\n",
      "  validation accuracy: 52.80 (7605 / 14403), f1 (weighted): 46.11, loss: 7.26e-01\n",
      "  time: 1174s (wall 490s)\n",
      "step 3300 / 4801 (epoch 6.87 / 10):\n",
      "  learning_rate = 7.35e-04, loss_average = 7.23e-01\n",
      "  validation accuracy: 52.38 (7544 / 14403), f1 (weighted): 46.48, loss: 7.26e-01\n",
      "  time: 1209s (wall 504s)\n",
      "step 3400 / 4801 (epoch 7.08 / 10):\n",
      "  learning_rate = 6.98e-04, loss_average = 7.20e-01\n",
      "  validation accuracy: 52.59 (7574 / 14403), f1 (weighted): 46.52, loss: 7.26e-01\n",
      "  time: 1245s (wall 518s)\n",
      "step 3500 / 4801 (epoch 7.29 / 10):\n",
      "  learning_rate = 6.98e-04, loss_average = 7.23e-01\n",
      "  validation accuracy: 52.66 (7585 / 14403), f1 (weighted): 45.63, loss: 7.26e-01\n",
      "  time: 1280s (wall 532s)\n",
      "step 3600 / 4801 (epoch 7.50 / 10):\n",
      "  learning_rate = 6.98e-04, loss_average = 7.21e-01\n",
      "  validation accuracy: 52.68 (7588 / 14403), f1 (weighted): 45.39, loss: 7.26e-01\n",
      "  time: 1316s (wall 546s)\n",
      "step 3700 / 4801 (epoch 7.71 / 10):\n",
      "  learning_rate = 6.98e-04, loss_average = 7.23e-01\n",
      "  validation accuracy: 52.43 (7552 / 14403), f1 (weighted): 45.24, loss: 7.26e-01\n",
      "  time: 1351s (wall 560s)\n",
      "step 3800 / 4801 (epoch 7.91 / 10):\n",
      "  learning_rate = 6.98e-04, loss_average = 7.22e-01\n",
      "  validation accuracy: 52.84 (7610 / 14403), f1 (weighted): 45.79, loss: 7.26e-01\n",
      "  time: 1386s (wall 574s)\n",
      "step 3900 / 4801 (epoch 8.12 / 10):\n",
      "  learning_rate = 6.63e-04, loss_average = 7.22e-01\n",
      "  validation accuracy: 52.78 (7602 / 14403), f1 (weighted): 45.64, loss: 7.26e-01\n",
      "  time: 1422s (wall 588s)\n",
      "step 4000 / 4801 (epoch 8.33 / 10):\n",
      "  learning_rate = 6.63e-04, loss_average = 7.22e-01\n",
      "  validation accuracy: 52.60 (7576 / 14403), f1 (weighted): 45.35, loss: 7.26e-01\n",
      "  time: 1457s (wall 602s)\n",
      "step 4100 / 4801 (epoch 8.54 / 10):\n",
      "  learning_rate = 6.63e-04, loss_average = 7.23e-01\n",
      "  validation accuracy: 50.68 (7300 / 14403), f1 (weighted): 49.25, loss: 7.29e-01\n",
      "  time: 1493s (wall 617s)\n",
      "step 4200 / 4801 (epoch 8.75 / 10):\n",
      "  learning_rate = 6.63e-04, loss_average = 7.24e-01\n",
      "  validation accuracy: 51.82 (7463 / 14403), f1 (weighted): 50.99, loss: 7.27e-01\n",
      "  time: 1530s (wall 632s)\n",
      "step 4300 / 4801 (epoch 8.96 / 10):\n",
      "  learning_rate = 6.63e-04, loss_average = 7.22e-01\n",
      "  validation accuracy: 52.11 (7506 / 14403), f1 (weighted): 51.48, loss: 7.27e-01\n",
      "  time: 1566s (wall 646s)\n",
      "step 4400 / 4801 (epoch 9.16 / 10):\n",
      "  learning_rate = 6.30e-04, loss_average = 7.19e-01\n",
      "  validation accuracy: 51.89 (7474 / 14403), f1 (weighted): 50.92, loss: 7.27e-01\n",
      "  time: 1602s (wall 661s)\n",
      "step 4500 / 4801 (epoch 9.37 / 10):\n",
      "  learning_rate = 6.30e-04, loss_average = 7.20e-01\n",
      "  validation accuracy: 52.88 (7617 / 14403), f1 (weighted): 43.58, loss: 7.26e-01\n",
      "  time: 1639s (wall 677s)\n",
      "step 4600 / 4801 (epoch 9.58 / 10):\n",
      "  learning_rate = 6.30e-04, loss_average = 7.22e-01\n"
     ]
    }
   ],
   "source": [
    "model = models.cgcnn(L, **params)\n",
    "accuracy, loss, t_step = model.fit(X_train, y_train, X_val, y_val)"
   ]
  },
  {
   "cell_type": "markdown",
   "metadata": {},
   "source": [
    "# 4 Evaluation\n",
    "\n",
    "We often want to monitor:\n",
    "1. The convergence, i.e. the training loss and the classification accuracy on the validation set.\n",
    "2. The performance, i.e. the classification accuracy on the testing set (to be compared with the training set accuracy to spot overfitting).\n",
    "\n",
    "The `model_perf` class in [utils.py](utils.py) can be used to compactly evaluate multiple models."
   ]
  },
  {
   "cell_type": "code",
   "execution_count": null,
   "metadata": {},
   "outputs": [],
   "source": [
    "fig, ax1 = plt.subplots(figsize=(15, 5))\n",
    "ax1.plot(accuracy, 'b.-')\n",
    "ax1.set_ylabel('validation accuracy', color='b')\n",
    "ax2 = ax1.twinx()\n",
    "ax2.plot(loss, 'g.-')\n",
    "ax2.set_ylabel('training loss', color='g')\n",
    "plt.show()"
   ]
  },
  {
   "cell_type": "code",
   "execution_count": null,
   "metadata": {},
   "outputs": [],
   "source": [
    "print('Time per step: {:.2f} ms'.format(t_step*1000))"
   ]
  },
  {
   "cell_type": "code",
   "execution_count": null,
   "metadata": {},
   "outputs": [],
   "source": [
    "res = model.evaluate(X_test, y_test)\n",
    "print(res[0])"
   ]
  }
 ],
 "metadata": {
  "kernelspec": {
   "display_name": "Python 3",
   "language": "python",
   "name": "python3"
  },
  "language_info": {
   "codemirror_mode": {
    "name": "ipython",
    "version": 3
   },
   "file_extension": ".py",
   "mimetype": "text/x-python",
   "name": "python",
   "nbconvert_exporter": "python",
   "pygments_lexer": "ipython3",
   "version": "3.7.3"
  }
 },
 "nbformat": 4,
 "nbformat_minor": 1
}
